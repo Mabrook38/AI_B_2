{
 "cells": [
  {
   "cell_type": "markdown",
   "id": "8996888a",
   "metadata": {},
   "source": [
    "# python functions"
   ]
  },
  {
   "cell_type": "code",
   "execution_count": 2,
   "id": "10ee986d",
   "metadata": {},
   "outputs": [],
   "source": [
    "def Greeting():\n",
    "    name=input(\"enter your name\")\n",
    "    print(f\"Hi {name}, How are you?\")\n",
    "    "
   ]
  },
  {
   "cell_type": "code",
   "execution_count": 4,
   "id": "77ff4fde",
   "metadata": {},
   "outputs": [],
   "source": [
    "def add(a,b):\n",
    "    c=a+b\n",
    "    return c\n",
    "def sub(a,b):\n",
    "    c=a-b\n",
    "    return c\n",
    "def mul(a,b):\n",
    "    c=a*b\n",
    "    return c\n",
    "def div(a,b):\n",
    "    if b==0:\n",
    "        print(\"cannot divide by zero\")\n",
    "        return\n",
    "    else:\n",
    "        c=a/b\n",
    "        return c\n",
    "    \n",
    "    "
   ]
  },
  {
   "cell_type": "code",
   "execution_count": 6,
   "id": "6919d1e1",
   "metadata": {},
   "outputs": [
    {
     "name": "stdout",
     "output_type": "stream",
     "text": [
      "enter a value for y5\n",
      "15\n"
     ]
    },
    {
     "data": {
      "text/plain": [
       "'\\ncreate a function, user input---->500\\nvalue-------->293\\n'"
      ]
     },
     "execution_count": 6,
     "metadata": {},
     "output_type": "execute_result"
    }
   ],
   "source": [
    "# x=int(input(\"Eneter value \"))\n",
    "y=int(input(\"enter a value for y\"))\n",
    "addition=add(x,y)\n",
    "print(addition)\n",
    "\n",
    "\"\"\"\n",
    "create a function, user input---->500\n",
    "value-------->293\n",
    "\"\"\"\n",
    "\n"
   ]
  },
  {
   "cell_type": "markdown",
   "id": "9183d004",
   "metadata": {},
   "source": [
    "# Scope of variables"
   ]
  },
  {
   "cell_type": "code",
   "execution_count": 19,
   "id": "d7bb7682",
   "metadata": {},
   "outputs": [],
   "source": [
    "z=10\n",
    "def function():\n",
    "    global b\n",
    "    a=10\n",
    "    b=30\n",
    "    c=a+z\n",
    "    print(c)\n"
   ]
  },
  {
   "cell_type": "code",
   "execution_count": 27,
   "id": "c3a8479b",
   "metadata": {},
   "outputs": [],
   "source": [
    "def storing_data():\n",
    "    namess=['ali', 'ahmad']\n",
    "    return namess\n",
    "\n",
    "def checking():\n",
    "    name=input(\"Enter name\")\n",
    "    n=storing_data()\n",
    "    if name in n:\n",
    "        print(\"please proceed\")\n",
    "    else:\n",
    "        print(\"sorry\")"
   ]
  },
  {
   "cell_type": "code",
   "execution_count": 28,
   "id": "3d5f51da",
   "metadata": {},
   "outputs": [
    {
     "name": "stdout",
     "output_type": "stream",
     "text": [
      "Enter nameali\n",
      "please proceed\n"
     ]
    }
   ],
   "source": [
    "\n",
    "checking()"
   ]
  },
  {
   "cell_type": "code",
   "execution_count": 1,
   "id": "2548f1e2",
   "metadata": {},
   "outputs": [
    {
     "data": {
      "text/plain": [
       "'\\n1. Dictionary\\n'"
      ]
     },
     "execution_count": 1,
     "metadata": {},
     "output_type": "execute_result"
    }
   ],
   "source": [
    "\"\"\"\n",
    "1. Dictionary\n",
    "explore built in functions.also loop through dictionary\n",
    "2. tuple\n",
    "3. set\n",
    "4. time, numpy, pandas, opencv-python(cv2), matplotlib, sklearn\n",
    "\"\"\""
   ]
  },
  {
   "cell_type": "code",
   "execution_count": 29,
   "id": "a512f419",
   "metadata": {},
   "outputs": [],
   "source": [
    "dic={0:\"shehzad\",1:\"ali\"}"
   ]
  },
  {
   "cell_type": "code",
   "execution_count": 30,
   "id": "cba5848d",
   "metadata": {},
   "outputs": [
    {
     "data": {
      "text/plain": [
       "{0: 'shehzad', 1: 'ali'}"
      ]
     },
     "execution_count": 30,
     "metadata": {},
     "output_type": "execute_result"
    }
   ],
   "source": [
    "dic"
   ]
  },
  {
   "cell_type": "code",
   "execution_count": 33,
   "id": "a9e93bdb",
   "metadata": {},
   "outputs": [
    {
     "data": {
      "text/plain": [
       "dict_values(['shehzad', 'ali'])"
      ]
     },
     "execution_count": 33,
     "metadata": {},
     "output_type": "execute_result"
    }
   ],
   "source": [
    "dic.values()"
   ]
  },
  {
   "cell_type": "code",
   "execution_count": null,
   "id": "b3a0dd6b",
   "metadata": {},
   "outputs": [],
   "source": []
  }
 ],
 "metadata": {
  "kernelspec": {
   "display_name": "Python 3 (ipykernel)",
   "language": "python",
   "name": "python3"
  },
  "language_info": {
   "codemirror_mode": {
    "name": "ipython",
    "version": 3
   },
   "file_extension": ".py",
   "mimetype": "text/x-python",
   "name": "python",
   "nbconvert_exporter": "python",
   "pygments_lexer": "ipython3",
   "version": "3.8.18"
  }
 },
 "nbformat": 4,
 "nbformat_minor": 5
}
