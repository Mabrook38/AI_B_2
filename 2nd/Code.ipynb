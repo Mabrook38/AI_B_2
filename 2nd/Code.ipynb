{
 "cells": [
  {
   "cell_type": "code",
   "execution_count": 1,
   "id": "b84c44dd",
   "metadata": {},
   "outputs": [
    {
     "name": "stdout",
     "output_type": "stream",
     "text": [
      "Hello\n"
     ]
    }
   ],
   "source": [
    "print(\"Hello\")"
   ]
  },
  {
   "cell_type": "markdown",
   "id": "bf9af0a1",
   "metadata": {},
   "source": [
    "# Python variables"
   ]
  },
  {
   "cell_type": "code",
   "execution_count": 4,
   "id": "1a6617db",
   "metadata": {},
   "outputs": [
    {
     "name": "stdout",
     "output_type": "stream",
     "text": [
      "the value of x= 10\n",
      "type of x= <class 'int'>\n",
      "the value of y= 20\n",
      "type of y= <class 'int'>\n"
     ]
    }
   ],
   "source": [
    "'''\n",
    "1. interger\n",
    "2. float\n",
    "3. string\n",
    "'''\n",
    "\n",
    "x=10\n",
    "y=20\n",
    "print(\"the value of x=\",x)\n",
    "print(\"type of x=\", type(x))\n",
    "print(\"the value of y=\",y)\n",
    "print(\"type of y=\",type(y))"
   ]
  },
  {
   "cell_type": "code",
   "execution_count": 6,
   "id": "46b7a066",
   "metadata": {},
   "outputs": [
    {
     "name": "stdout",
     "output_type": "stream",
     "text": [
      "type of s= <class 'str'>\n",
      "type of f= <class 'float'>\n"
     ]
    }
   ],
   "source": [
    "s='shehzad'\n",
    "print('type of s=', type(s))\n",
    "\n",
    "f=2.3\n",
    "print(\"type of f=\", type(f))"
   ]
  },
  {
   "cell_type": "code",
   "execution_count": 7,
   "id": "10b05aa9",
   "metadata": {},
   "outputs": [],
   "source": [
    "x=int(3)"
   ]
  },
  {
   "cell_type": "code",
   "execution_count": 13,
   "id": "5bf717ce",
   "metadata": {},
   "outputs": [],
   "source": [
    "z=int(3)\n",
    "g=5"
   ]
  },
  {
   "cell_type": "code",
   "execution_count": 14,
   "id": "e4534e00",
   "metadata": {},
   "outputs": [
    {
     "name": "stdout",
     "output_type": "stream",
     "text": [
      "5\n"
     ]
    }
   ],
   "source": [
    "print(g)"
   ]
  },
  {
   "cell_type": "code",
   "execution_count": 11,
   "id": "06fb84ea",
   "metadata": {},
   "outputs": [
    {
     "name": "stdout",
     "output_type": "stream",
     "text": [
      "20\n"
     ]
    }
   ],
   "source": [
    "print(y)"
   ]
  },
  {
   "cell_type": "markdown",
   "id": "02d67025",
   "metadata": {},
   "source": [
    "# Type casting/conversion"
   ]
  },
  {
   "cell_type": "code",
   "execution_count": 19,
   "id": "dbd18faa",
   "metadata": {},
   "outputs": [],
   "source": [
    "x=50\n",
    "f_x=50.0\n",
    "f2_x=float(x)"
   ]
  },
  {
   "cell_type": "code",
   "execution_count": 20,
   "id": "8ef23e38",
   "metadata": {},
   "outputs": [
    {
     "name": "stdout",
     "output_type": "stream",
     "text": [
      "type of x <class 'int'>\n",
      "type of f_x <class 'float'>\n",
      "type of f2_x <class 'float'>\n"
     ]
    }
   ],
   "source": [
    "print(\"type of x\",type(x))\n",
    "print(\"type of f_x\", type(f_x))\n",
    "print(\"type of f2_x\", type(f2_x))"
   ]
  },
  {
   "cell_type": "code",
   "execution_count": 23,
   "id": "d2279ed6",
   "metadata": {},
   "outputs": [],
   "source": [
    "f=34.4\n",
    "integer_f=int(f)"
   ]
  },
  {
   "cell_type": "code",
   "execution_count": 25,
   "id": "5ebae894",
   "metadata": {},
   "outputs": [
    {
     "name": "stdout",
     "output_type": "stream",
     "text": [
      "type of f <class 'float'>\n",
      "34\n",
      "type of interger_f <class 'int'>\n"
     ]
    }
   ],
   "source": [
    "print(\"type of f\", type(f))\n",
    "print(integer_f)\n",
    "print(\"type of interger_f\", type(integer_f))"
   ]
  },
  {
   "cell_type": "code",
   "execution_count": 32,
   "id": "d425c3c3",
   "metadata": {},
   "outputs": [
    {
     "name": "stdout",
     "output_type": "stream",
     "text": [
      "100\n",
      "type of s <class 'str'>\n"
     ]
    }
   ],
   "source": [
    "s='100'\n",
    "s2='shehzad'\n",
    "print(s)\n",
    "print(\"type of s\", type(s))"
   ]
  },
  {
   "cell_type": "code",
   "execution_count": 27,
   "id": "e69515eb",
   "metadata": {},
   "outputs": [],
   "source": [
    "integer_s=int(s)"
   ]
  },
  {
   "cell_type": "code",
   "execution_count": 28,
   "id": "cbc0d204",
   "metadata": {},
   "outputs": [
    {
     "name": "stdout",
     "output_type": "stream",
     "text": [
      "100\n",
      "type of integer_s <class 'int'>\n"
     ]
    }
   ],
   "source": [
    "print(integer_s)\n",
    "print(\"type of integer_s\", type(integer_s))"
   ]
  },
  {
   "cell_type": "code",
   "execution_count": 33,
   "id": "5bc8a1c7",
   "metadata": {},
   "outputs": [],
   "source": [
    "s=int(s)"
   ]
  },
  {
   "cell_type": "code",
   "execution_count": 35,
   "id": "09484d35",
   "metadata": {},
   "outputs": [
    {
     "name": "stdout",
     "output_type": "stream",
     "text": [
      "100\n",
      "type of s <class 'int'>\n"
     ]
    }
   ],
   "source": [
    "print(s)\n",
    "print(\"type of s\", type (s))"
   ]
  },
  {
   "cell_type": "code",
   "execution_count": 36,
   "id": "1492a033",
   "metadata": {},
   "outputs": [
    {
     "ename": "ValueError",
     "evalue": "invalid literal for int() with base 10: 'shehzad'",
     "output_type": "error",
     "traceback": [
      "\u001b[1;31m---------------------------------------------------------------------------\u001b[0m",
      "\u001b[1;31mValueError\u001b[0m                                Traceback (most recent call last)",
      "Cell \u001b[1;32mIn[36], line 1\u001b[0m\n\u001b[1;32m----> 1\u001b[0m s2\u001b[38;5;241m=\u001b[39m\u001b[38;5;28;43mint\u001b[39;49m\u001b[43m(\u001b[49m\u001b[43ms2\u001b[49m\u001b[43m)\u001b[49m\n",
      "\u001b[1;31mValueError\u001b[0m: invalid literal for int() with base 10: 'shehzad'"
     ]
    }
   ],
   "source": [
    "s2=int(s2)"
   ]
  },
  {
   "cell_type": "code",
   "execution_count": 42,
   "id": "03e43130",
   "metadata": {},
   "outputs": [
    {
     "name": "stdout",
     "output_type": "stream",
     "text": [
      "Hello Haroon Ali\n"
     ]
    },
    {
     "data": {
      "text/plain": [
       "'Hello Haroon Ali'"
      ]
     },
     "execution_count": 42,
     "metadata": {},
     "output_type": "execute_result"
    }
   ],
   "source": [
    "print(\"Hello\",end=' ')\n",
    "print(\"Haroon\",end=\" \")\n",
    "print('Ali')\n",
    "\"Hello Haroon Ali\""
   ]
  },
  {
   "cell_type": "code",
   "execution_count": 44,
   "id": "46ed817c",
   "metadata": {},
   "outputs": [
    {
     "name": "stdout",
     "output_type": "stream",
     "text": [
      "Hello_Haron_Ali\n"
     ]
    }
   ],
   "source": [
    "print(\"Hello\", 'Haron', 'Ali',sep='_')"
   ]
  },
  {
   "cell_type": "markdown",
   "id": "9fca0b9c",
   "metadata": {},
   "source": [
    "# user input"
   ]
  },
  {
   "cell_type": "code",
   "execution_count": 45,
   "id": "5ebcd617",
   "metadata": {},
   "outputs": [
    {
     "name": "stdout",
     "output_type": "stream",
     "text": [
      "Enter a valueshehzad\n"
     ]
    }
   ],
   "source": [
    "user_input=input(\"Enter a value\")"
   ]
  },
  {
   "cell_type": "code",
   "execution_count": 46,
   "id": "561c1341",
   "metadata": {},
   "outputs": [
    {
     "data": {
      "text/plain": [
       "'shehzad'"
      ]
     },
     "execution_count": 46,
     "metadata": {},
     "output_type": "execute_result"
    }
   ],
   "source": [
    "user_input"
   ]
  },
  {
   "cell_type": "code",
   "execution_count": 47,
   "id": "8bced002",
   "metadata": {},
   "outputs": [
    {
     "name": "stdout",
     "output_type": "stream",
     "text": [
      "enter value23\n",
      "Enter a float value5.7\n",
      "Enter a string valuename\n"
     ]
    }
   ],
   "source": [
    "x_int=input(\"enter value\")\n",
    "x_float=input(\"Enter a float value\")\n",
    "x_string=input(\"Enter a string value\")"
   ]
  },
  {
   "cell_type": "code",
   "execution_count": 48,
   "id": "400641f5",
   "metadata": {},
   "outputs": [
    {
     "name": "stdout",
     "output_type": "stream",
     "text": [
      "type of x_int <class 'str'>\n",
      "type of x_float <class 'str'>\n",
      "type of x_string <class 'str'>\n"
     ]
    }
   ],
   "source": [
    "print(\"type of x_int\", type(x_int))\n",
    "print(\"type of x_float\", type(x_float))\n",
    "print(\"type of x_string\", type(x_string))"
   ]
  },
  {
   "cell_type": "code",
   "execution_count": 49,
   "id": "ca6576f2",
   "metadata": {},
   "outputs": [],
   "source": [
    "x_int=int(x_int)\n",
    "x_float=float(x_float)"
   ]
  },
  {
   "cell_type": "code",
   "execution_count": 50,
   "id": "0bb26377",
   "metadata": {},
   "outputs": [
    {
     "name": "stdout",
     "output_type": "stream",
     "text": [
      "type of x_int <class 'int'>\n",
      "type of x_float <class 'float'>\n"
     ]
    }
   ],
   "source": [
    "print(\"type of x_int\", type(x_int))\n",
    "print(\"type of x_float\", type(x_float))"
   ]
  },
  {
   "cell_type": "code",
   "execution_count": 51,
   "id": "22bedb43",
   "metadata": {},
   "outputs": [
    {
     "name": "stdout",
     "output_type": "stream",
     "text": [
      "enter value45\n",
      "Enter a float value6.7\n",
      "Enter a string valuestring\n"
     ]
    }
   ],
   "source": [
    "x_int1=int(input(\"enter value\"))\n",
    "x_float1=float(input(\"Enter a float value\"))\n",
    "x_string1=input(\"Enter a string value\")"
   ]
  },
  {
   "cell_type": "code",
   "execution_count": 52,
   "id": "b2b49471",
   "metadata": {},
   "outputs": [
    {
     "name": "stdout",
     "output_type": "stream",
     "text": [
      "type of x_int <class 'int'>\n",
      "type of x_float <class 'float'>\n",
      "type of x_string <class 'str'>\n"
     ]
    }
   ],
   "source": [
    "print(\"type of x_int\", type(x_int1))\n",
    "print(\"type of x_float\", type(x_float1))\n",
    "print(\"type of x_string\", type(x_string1))"
   ]
  },
  {
   "cell_type": "markdown",
   "id": "0eff3dba",
   "metadata": {},
   "source": [
    "Task:\n",
    "\n",
    "operators\n",
    "1. Take user input and perform arithematic operations on it\n",
    "(addition, subtraction, multiplication, division)"
   ]
  },
  {
   "cell_type": "code",
   "execution_count": null,
   "id": "37577129",
   "metadata": {},
   "outputs": [],
   "source": []
  }
 ],
 "metadata": {
  "kernelspec": {
   "display_name": "Python 3 (ipykernel)",
   "language": "python",
   "name": "python3"
  },
  "language_info": {
   "codemirror_mode": {
    "name": "ipython",
    "version": 3
   },
   "file_extension": ".py",
   "mimetype": "text/x-python",
   "name": "python",
   "nbconvert_exporter": "python",
   "pygments_lexer": "ipython3",
   "version": "3.8.18"
  }
 },
 "nbformat": 4,
 "nbformat_minor": 5
}
