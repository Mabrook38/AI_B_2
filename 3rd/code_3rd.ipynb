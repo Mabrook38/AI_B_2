{
 "cells": [
  {
   "cell_type": "markdown",
   "id": "1783bb8a",
   "metadata": {},
   "source": [
    "1. control statements\n",
    "2. if else\n",
    "3. loops\n",
    "4. data structures(List, tuple, dictionary, set)\n",
    "5. functions\n",
    "6. exception handling\n",
    "7. OOp"
   ]
  },
  {
   "cell_type": "code",
   "execution_count": 6,
   "id": "e9885960",
   "metadata": {},
   "outputs": [
    {
     "name": "stdout",
     "output_type": "stream",
     "text": [
      "Enter any number45\n",
      "positive\n"
     ]
    }
   ],
   "source": [
    "user_input=int(input(\"Enter any number\"))\n",
    "if user_input==0:\n",
    "    print(\"the number is zero\")\n",
    "    \n",
    "elif user_input>0:\n",
    "    print(\"positive\")\n",
    "else:\n",
    "    print(\"Negative\")\n",
    "    "
   ]
  },
  {
   "cell_type": "code",
   "execution_count": 7,
   "id": "d950ab75",
   "metadata": {},
   "outputs": [
    {
     "data": {
      "text/plain": [
       "'\\nask user to input 5 subject marks\\ntotal marks\\naverage \\n0-30(fail)\\n31-40(pass)\\n41-50(C grade)\\n51-60(B grade)\\n61-70(B+ Grade)\\n71-80(A grade)\\n81-100(A+)\\n'"
      ]
     },
     "execution_count": 7,
     "metadata": {},
     "output_type": "execute_result"
    }
   ],
   "source": [
    "\"\"\"\n",
    "ask user to input 5 subject marks\n",
    "total marks\n",
    "average \n",
    "0-30(fail)\n",
    "31-40(pass)\n",
    "41-50(C grade)\n",
    "51-60(B grade)\n",
    "61-70(B+ Grade)\n",
    "71-80(A grade)\n",
    "81-100(A+)\n",
    "\"\"\""
   ]
  },
  {
   "cell_type": "code",
   "execution_count": null,
   "id": "855eaaad",
   "metadata": {},
   "outputs": [],
   "source": [
    "# sub1=int(input(\"Enter marks of sub1\"))\n",
    "sub2=int(input(\"Enter marks of sub2\"))\n",
    "sub3=int(input(\"Enter marks of sub3\"))\n",
    "sub4=int(input(\"Enter marks of sub4\"))\n",
    "sub5=int(input(\"Enter marks of sub5\"))\n",
    "total=input(\"Enter total marks\")\n",
    "# print(type(total))\n",
    "if total==0:\n",
    "    print(\"please enter valid total marks\")\n",
    "\n",
    "else:\n",
    "    if sub1>100 or sub2>100 or sub3>100 or sub4>100 or sub5>100:\n",
    "        print(\"No subject marks should greater than 100\")\n",
    "    else:        \n",
    "\n",
    "        obtained=sub1+sub2+sub3+sub4+sub5\n",
    "        Average=(obtained/total)*100\n",
    "        if Average>=0 and Average<=30:\n",
    "            print(\"Fail\")\n",
    "        elif Average>30 and Average<=40:\n",
    "            print(\"pass\")\n",
    "        elif Average>40 and Average<=50:\n",
    "            print(\"C grades\")\n",
    "        elif Average>50 and Average<=60:\n",
    "            print(\"B grade\")\n",
    "        elif Average>60 and Average<=70:\n",
    "            print(\"B + \")\n",
    "        elif Average>70 and Average<=80:\n",
    "            print(\"A\")\n",
    "        else:\n",
    "            print(\"A+\")\n",
    "\n"
   ]
  },
  {
   "cell_type": "code",
   "execution_count": 11,
   "id": "1cdf5e33",
   "metadata": {},
   "outputs": [
    {
     "name": "stdout",
     "output_type": "stream",
     "text": [
      "enter any number41\n",
      "41 to 50 \n"
     ]
    }
   ],
   "source": [
    "n=int(input(\"enter any number\"))\n",
    "if n>=30 and n<=40:\n",
    "    print(\"inside 30 to 40\")\n",
    "elif n>40 and n<=50:\n",
    "    print(\"41 to 50 \")\n"
   ]
  },
  {
   "cell_type": "markdown",
   "id": "45d94af7",
   "metadata": {},
   "source": [
    "# Loops in python"
   ]
  },
  {
   "cell_type": "code",
   "execution_count": 21,
   "id": "c3a0cdd5",
   "metadata": {},
   "outputs": [
    {
     "name": "stdout",
     "output_type": "stream",
     "text": [
      "0\n",
      "1\n",
      "2\n",
      "3\n",
      "4\n",
      "5\n",
      "6\n",
      "7\n",
      "8\n",
      "9\n"
     ]
    }
   ],
   "source": [
    "\"\"\"\n",
    "1. for loop\n",
    "2. while loop\n",
    "\"\"\"\n",
    "# for i in range(10):\n",
    "#     print(i)\n",
    "    \n",
    "\"\"\"\n",
    "printing even numbers from 0 to 100\n",
    "\n",
    "range(starting, ending, step size)\n",
    "[1,2,3,4,5]\n",
    "range(1,6)\n",
    "[0,------,100]\n",
    "\"\"\"\n",
    "for i in range(0,101):\n",
    "     if i %2==0:\n",
    "            print(i)\n"
   ]
  },
  {
   "cell_type": "markdown",
   "id": "1ea4e144",
   "metadata": {},
   "source": [
    "Tasks:\n",
    "1. 5 examples on if else\n",
    "2. 4 examples on nasted if else\n",
    "3. numpy, pandas, matplotlib(just read about it a bit)\n",
    "4. list of keywords in python\n",
    "5. operators in python(arithematic, logical, comparison, membership operators)\n",
    "6. complete all excercies in book chapter no 5"
   ]
  }
 ],
 "metadata": {
  "kernelspec": {
   "display_name": "Python 3 (ipykernel)",
   "language": "python",
   "name": "python3"
  },
  "language_info": {
   "codemirror_mode": {
    "name": "ipython",
    "version": 3
   },
   "file_extension": ".py",
   "mimetype": "text/x-python",
   "name": "python",
   "nbconvert_exporter": "python",
   "pygments_lexer": "ipython3",
   "version": "3.8.18"
  }
 },
 "nbformat": 4,
 "nbformat_minor": 5
}
