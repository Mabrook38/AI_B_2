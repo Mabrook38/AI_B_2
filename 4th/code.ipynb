{
 "cells": [
  {
   "cell_type": "code",
   "execution_count": 1,
   "id": "a0bc17cd",
   "metadata": {},
   "outputs": [
    {
     "data": {
      "text/plain": [
       "'\\nLoops\\ndata structures(List , Dictionary , tuple)\\n'"
      ]
     },
     "execution_count": 1,
     "metadata": {},
     "output_type": "execute_result"
    }
   ],
   "source": [
    "\"\"\"\n",
    "Loops\n",
    "data structures(List , Dictionary , tuple)\n",
    "\"\"\""
   ]
  },
  {
   "cell_type": "markdown",
   "id": "ab0381ac",
   "metadata": {},
   "source": [
    "# Loops in python"
   ]
  },
  {
   "cell_type": "code",
   "execution_count": 5,
   "id": "49f5bc69",
   "metadata": {},
   "outputs": [
    {
     "name": "stdout",
     "output_type": "stream",
     "text": [
      "1\n",
      "3\n",
      "5\n",
      "7\n",
      "9\n"
     ]
    }
   ],
   "source": [
    "for i in range(1,11,2):\n",
    "    print(i)"
   ]
  },
  {
   "cell_type": "code",
   "execution_count": 15,
   "id": "4b715c3b",
   "metadata": {},
   "outputs": [
    {
     "name": "stdout",
     "output_type": "stream",
     "text": [
      "10\n",
      "7\n",
      "4\n",
      "1\n"
     ]
    }
   ],
   "source": [
    "for i in range(10,0,-3):\n",
    "    print(i)\n",
    "    \n",
    "    \n",
    "    \n",
    "    \n",
    "    "
   ]
  },
  {
   "cell_type": "code",
   "execution_count": 17,
   "id": "2d28994e",
   "metadata": {},
   "outputs": [
    {
     "name": "stdout",
     "output_type": "stream",
     "text": [
      "Noman\n",
      "Abass\n",
      "zy\n",
      "jkljkl\n"
     ]
    }
   ],
   "source": [
    "print('Noman')\n",
    "print('Abass')\n",
    "print(\"zy\")\n",
    "print(\"jkljkl\")"
   ]
  },
  {
   "cell_type": "code",
   "execution_count": 22,
   "id": "3aa0e636",
   "metadata": {},
   "outputs": [
    {
     "name": "stdout",
     "output_type": "stream",
     "text": [
      "Hello  noman I hope you will be fine and enjoying your Eid \n",
      "Hello  abbas I hope you will be fine and enjoying your Eid \n",
      "Hello  shams I hope you will be fine and enjoying your Eid \n",
      "Hello  shehzad I hope you will be fine and enjoying your Eid \n"
     ]
    },
    {
     "data": {
      "text/plain": [
       "'\\nHello noman, I hope you will be fine and enjoying your Eid \\n,please collect your eidi from office.\\nThank you\\n'"
      ]
     },
     "execution_count": 22,
     "metadata": {},
     "output_type": "execute_result"
    }
   ],
   "source": [
    "names=['noman','abbas','shams', 'shehzad']\n",
    "#1st approach\n",
    "# print(names[0])\n",
    "# print(names[1])\n",
    "# print(names[2])\n",
    "# print(names[3])\n",
    "\n",
    "for name in names:\n",
    "    print(\"Hello \",name, \"I hope you will be fine and enjoying your Eid \")\n",
    "    \n",
    "\"\"\"\n",
    "Hello noman, I hope you will be fine and enjoying your Eid \n",
    ",please collect your eidi from office.\n",
    "Thank you\n",
    "\"\"\""
   ]
  },
  {
   "cell_type": "code",
   "execution_count": 24,
   "id": "d82ace16",
   "metadata": {},
   "outputs": [
    {
     "name": "stdout",
     "output_type": "stream",
     "text": [
      "Hello noman I hope you will be fine and enj\n",
      "Hello abbas I hope you will be fine and enj\n",
      "Hello shams I hope you will be fine and enj\n",
      "Hello shehzad I hope you will be fine and enj\n"
     ]
    }
   ],
   "source": [
    "for name in names:\n",
    "    print(f\"Hello {name} I hope you will be fine and enj\")"
   ]
  },
  {
   "cell_type": "code",
   "execution_count": 27,
   "id": "d78e6755",
   "metadata": {},
   "outputs": [
    {
     "name": "stdout",
     "output_type": "stream",
     "text": [
      "Name: noman Dep: IT\n",
      "Name: abbas Dep: Education\n",
      "Name: shehzad Dep: Security\n"
     ]
    }
   ],
   "source": [
    "names=['noman','abbas','shehzad']\n",
    "dept=['IT','Education','Security']\n",
    "# print(len(names))\n",
    "# print(len(dept))\n",
    "for info in range(len(names)):\n",
    "    print(f\"Name: {names[info]} Dep: {dept[info]}\")"
   ]
  },
  {
   "cell_type": "code",
   "execution_count": 30,
   "id": "b51a2892",
   "metadata": {},
   "outputs": [
    {
     "name": "stdout",
     "output_type": "stream",
     "text": [
      "*\n",
      "**\n",
      "***\n",
      "****\n",
      "*****\n"
     ]
    }
   ],
   "source": [
    "\"\"\"\n",
    "*\n",
    "**\n",
    "***\n",
    "****\n",
    "*****\n",
    "\"\"\"\n",
    "for i in range(1,6):\n",
    "    print('*'*i)"
   ]
  },
  {
   "cell_type": "code",
   "execution_count": 31,
   "id": "174e128d",
   "metadata": {},
   "outputs": [
    {
     "name": "stdout",
     "output_type": "stream",
     "text": [
      "*****\n",
      "****\n",
      "***\n",
      "**\n",
      "*\n"
     ]
    }
   ],
   "source": [
    "for i in range(5,0,-1):\n",
    "    print('*'*i)"
   ]
  },
  {
   "cell_type": "code",
   "execution_count": 42,
   "id": "f45161a0",
   "metadata": {},
   "outputs": [
    {
     "name": "stdout",
     "output_type": "stream",
     "text": [
      "enter a number10\n"
     ]
    }
   ],
   "source": [
    "while 1:\n",
    "    n=int(input(\"enter a number\"))\n",
    "    if n==10:\n",
    "        break\n",
    "    elif n==5:\n",
    "        continue\n",
    "    else:\n",
    "        print(n)"
   ]
  },
  {
   "cell_type": "code",
   "execution_count": 44,
   "id": "6b138aa5",
   "metadata": {},
   "outputs": [
    {
     "name": "stdout",
     "output_type": "stream",
     "text": [
      "Enter marks of sub156\n",
      "Enter marks of sub267\n",
      "Enter marks of sub345\n",
      "Enter marks of sub456\n",
      "Enter marks of sub545\n",
      "Enter total marks500\n",
      "B grade\n",
      "enter yes to continue or no to exityes\n"
     ]
    },
    {
     "ename": "KeyboardInterrupt",
     "evalue": "Interrupted by user",
     "output_type": "error",
     "traceback": [
      "\u001b[1;31m---------------------------------------------------------------------------\u001b[0m",
      "\u001b[1;31mKeyboardInterrupt\u001b[0m                         Traceback (most recent call last)",
      "Cell \u001b[1;32mIn[44], line 2\u001b[0m\n\u001b[0;32m      1\u001b[0m \u001b[38;5;28;01mwhile\u001b[39;00m \u001b[38;5;28;01mTrue\u001b[39;00m:\n\u001b[1;32m----> 2\u001b[0m     sub1\u001b[38;5;241m=\u001b[39m\u001b[38;5;28mint\u001b[39m(\u001b[38;5;28;43minput\u001b[39;49m\u001b[43m(\u001b[49m\u001b[38;5;124;43m\"\u001b[39;49m\u001b[38;5;124;43mEnter marks of sub1\u001b[39;49m\u001b[38;5;124;43m\"\u001b[39;49m\u001b[43m)\u001b[49m)\n\u001b[0;32m      3\u001b[0m     sub2\u001b[38;5;241m=\u001b[39m\u001b[38;5;28mint\u001b[39m(\u001b[38;5;28minput\u001b[39m(\u001b[38;5;124m\"\u001b[39m\u001b[38;5;124mEnter marks of sub2\u001b[39m\u001b[38;5;124m\"\u001b[39m))\n\u001b[0;32m      4\u001b[0m     sub3\u001b[38;5;241m=\u001b[39m\u001b[38;5;28mint\u001b[39m(\u001b[38;5;28minput\u001b[39m(\u001b[38;5;124m\"\u001b[39m\u001b[38;5;124mEnter marks of sub3\u001b[39m\u001b[38;5;124m\"\u001b[39m))\n",
      "File \u001b[1;32m~\\anaconda3\\lib\\site-packages\\ipykernel\\kernelbase.py:1202\u001b[0m, in \u001b[0;36mKernel.raw_input\u001b[1;34m(self, prompt)\u001b[0m\n\u001b[0;32m   1200\u001b[0m     msg \u001b[38;5;241m=\u001b[39m \u001b[38;5;124m\"\u001b[39m\u001b[38;5;124mraw_input was called, but this frontend does not support input requests.\u001b[39m\u001b[38;5;124m\"\u001b[39m\n\u001b[0;32m   1201\u001b[0m     \u001b[38;5;28;01mraise\u001b[39;00m StdinNotImplementedError(msg)\n\u001b[1;32m-> 1202\u001b[0m \u001b[38;5;28;01mreturn\u001b[39;00m \u001b[38;5;28;43mself\u001b[39;49m\u001b[38;5;241;43m.\u001b[39;49m\u001b[43m_input_request\u001b[49m\u001b[43m(\u001b[49m\n\u001b[0;32m   1203\u001b[0m \u001b[43m    \u001b[49m\u001b[38;5;28;43mstr\u001b[39;49m\u001b[43m(\u001b[49m\u001b[43mprompt\u001b[49m\u001b[43m)\u001b[49m\u001b[43m,\u001b[49m\n\u001b[0;32m   1204\u001b[0m \u001b[43m    \u001b[49m\u001b[38;5;28;43mself\u001b[39;49m\u001b[38;5;241;43m.\u001b[39;49m\u001b[43m_parent_ident\u001b[49m\u001b[43m[\u001b[49m\u001b[38;5;124;43m\"\u001b[39;49m\u001b[38;5;124;43mshell\u001b[39;49m\u001b[38;5;124;43m\"\u001b[39;49m\u001b[43m]\u001b[49m\u001b[43m,\u001b[49m\n\u001b[0;32m   1205\u001b[0m \u001b[43m    \u001b[49m\u001b[38;5;28;43mself\u001b[39;49m\u001b[38;5;241;43m.\u001b[39;49m\u001b[43mget_parent\u001b[49m\u001b[43m(\u001b[49m\u001b[38;5;124;43m\"\u001b[39;49m\u001b[38;5;124;43mshell\u001b[39;49m\u001b[38;5;124;43m\"\u001b[39;49m\u001b[43m)\u001b[49m\u001b[43m,\u001b[49m\n\u001b[0;32m   1206\u001b[0m \u001b[43m    \u001b[49m\u001b[43mpassword\u001b[49m\u001b[38;5;241;43m=\u001b[39;49m\u001b[38;5;28;43;01mFalse\u001b[39;49;00m\u001b[43m,\u001b[49m\n\u001b[0;32m   1207\u001b[0m \u001b[43m\u001b[49m\u001b[43m)\u001b[49m\n",
      "File \u001b[1;32m~\\anaconda3\\lib\\site-packages\\ipykernel\\kernelbase.py:1245\u001b[0m, in \u001b[0;36mKernel._input_request\u001b[1;34m(self, prompt, ident, parent, password)\u001b[0m\n\u001b[0;32m   1242\u001b[0m \u001b[38;5;28;01mexcept\u001b[39;00m \u001b[38;5;167;01mKeyboardInterrupt\u001b[39;00m:\n\u001b[0;32m   1243\u001b[0m     \u001b[38;5;66;03m# re-raise KeyboardInterrupt, to truncate traceback\u001b[39;00m\n\u001b[0;32m   1244\u001b[0m     msg \u001b[38;5;241m=\u001b[39m \u001b[38;5;124m\"\u001b[39m\u001b[38;5;124mInterrupted by user\u001b[39m\u001b[38;5;124m\"\u001b[39m\n\u001b[1;32m-> 1245\u001b[0m     \u001b[38;5;28;01mraise\u001b[39;00m \u001b[38;5;167;01mKeyboardInterrupt\u001b[39;00m(msg) \u001b[38;5;28;01mfrom\u001b[39;00m \u001b[38;5;28;01mNone\u001b[39;00m\n\u001b[0;32m   1246\u001b[0m \u001b[38;5;28;01mexcept\u001b[39;00m \u001b[38;5;167;01mException\u001b[39;00m:\n\u001b[0;32m   1247\u001b[0m     \u001b[38;5;28mself\u001b[39m\u001b[38;5;241m.\u001b[39mlog\u001b[38;5;241m.\u001b[39mwarning(\u001b[38;5;124m\"\u001b[39m\u001b[38;5;124mInvalid Message:\u001b[39m\u001b[38;5;124m\"\u001b[39m, exc_info\u001b[38;5;241m=\u001b[39m\u001b[38;5;28;01mTrue\u001b[39;00m)\n",
      "\u001b[1;31mKeyboardInterrupt\u001b[0m: Interrupted by user"
     ]
    }
   ],
   "source": [
    "while True:\n",
    "    sub1=int(input(\"Enter marks of sub1\"))\n",
    "    sub2=int(input(\"Enter marks of sub2\"))\n",
    "    sub3=int(input(\"Enter marks of sub3\"))\n",
    "    sub4=int(input(\"Enter marks of sub4\"))\n",
    "    sub5=int(input(\"Enter marks of sub5\"))\n",
    "    total=int(input(\"Enter total marks\"))\n",
    "    # print(type(total))\n",
    "    if total==0:\n",
    "        print(\"please enter valid total marks\")\n",
    "\n",
    "    else:\n",
    "        if sub1>100 or sub2>100 or sub3>100 or sub4>100 or sub5>100:\n",
    "            print(\"No subject marks should greater than 100\")\n",
    "        else:        \n",
    "\n",
    "            obtained=sub1+sub2+sub3+sub4+sub5\n",
    "            Average=(obtained/total)*100\n",
    "            if Average>=0 and Average<=30:\n",
    "                print(\"Fail\")\n",
    "            elif Average>30 and Average<=40:\n",
    "                print(\"pass\")\n",
    "            elif Average>40 and Average<=50:\n",
    "                print(\"C grades\")\n",
    "            elif Average>50 and Average<=60:\n",
    "                print(\"B grade\")\n",
    "            elif Average>60 and Average<=70:\n",
    "                print(\"B + \")\n",
    "            elif Average>70 and Average<=80:\n",
    "                print(\"A\")\n",
    "            else:\n",
    "                print(\"A+\")\n",
    "    option=input(\"enter yes to continue or no to exit\")\n",
    "    if option=='no':\n",
    "        break\n",
    "    else:\n",
    "        continue\n",
    "\n"
   ]
  },
  {
   "cell_type": "code",
   "execution_count": 45,
   "id": "e4ba5a74",
   "metadata": {},
   "outputs": [
    {
     "data": {
      "text/plain": [
       "'\\nTasks:\\n1. \\n'"
      ]
     },
     "execution_count": 45,
     "metadata": {},
     "output_type": "execute_result"
    }
   ],
   "source": [
    "\"\"\"\n",
    "Tasks:\n",
    "1.  user input 2,3,.....\n",
    "2*1=2\n",
    "2*2=4.....\n",
    "\n",
    "Dictionary, set, tuple\n",
    "identity operators \n",
    "\"\"\""
   ]
  },
  {
   "cell_type": "code",
   "execution_count": null,
   "id": "84775fcb",
   "metadata": {},
   "outputs": [],
   "source": []
  }
 ],
 "metadata": {
  "kernelspec": {
   "display_name": "Python 3 (ipykernel)",
   "language": "python",
   "name": "python3"
  },
  "language_info": {
   "codemirror_mode": {
    "name": "ipython",
    "version": 3
   },
   "file_extension": ".py",
   "mimetype": "text/x-python",
   "name": "python",
   "nbconvert_exporter": "python",
   "pygments_lexer": "ipython3",
   "version": "3.8.18"
  }
 },
 "nbformat": 4,
 "nbformat_minor": 5
}
