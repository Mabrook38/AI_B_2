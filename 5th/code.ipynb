{
 "cells": [
  {
   "cell_type": "markdown",
   "id": "05383d93",
   "metadata": {},
   "source": [
    "# python lists"
   ]
  },
  {
   "cell_type": "code",
   "execution_count": 2,
   "id": "25a83214",
   "metadata": {},
   "outputs": [
    {
     "name": "stdout",
     "output_type": "stream",
     "text": [
      "<class 'list'>\n"
     ]
    }
   ],
   "source": [
    "l=[]\n",
    "\n",
    "print(type(l))"
   ]
  },
  {
   "cell_type": "code",
   "execution_count": 3,
   "id": "0e3f064a",
   "metadata": {},
   "outputs": [],
   "source": [
    "l1=list()"
   ]
  },
  {
   "cell_type": "code",
   "execution_count": 4,
   "id": "e93067b5",
   "metadata": {},
   "outputs": [
    {
     "name": "stdout",
     "output_type": "stream",
     "text": [
      "[]\n"
     ]
    }
   ],
   "source": [
    "print(l1)"
   ]
  },
  {
   "cell_type": "code",
   "execution_count": 5,
   "id": "27e03c3d",
   "metadata": {},
   "outputs": [],
   "source": [
    "l=[1,2,3,4]"
   ]
  },
  {
   "cell_type": "code",
   "execution_count": 6,
   "id": "f579d59c",
   "metadata": {},
   "outputs": [
    {
     "name": "stdout",
     "output_type": "stream",
     "text": [
      "[1, 2, 3, 4]\n"
     ]
    }
   ],
   "source": [
    "print(l)"
   ]
  },
  {
   "cell_type": "code",
   "execution_count": 7,
   "id": "cd2e15d5",
   "metadata": {},
   "outputs": [],
   "source": [
    "l=[1,1.5,'string']"
   ]
  },
  {
   "cell_type": "code",
   "execution_count": 8,
   "id": "a4c7ee0a",
   "metadata": {},
   "outputs": [
    {
     "name": "stdout",
     "output_type": "stream",
     "text": [
      "[1, 1.5, 'string']\n"
     ]
    }
   ],
   "source": [
    "print(l)"
   ]
  },
  {
   "cell_type": "markdown",
   "id": "48a90028",
   "metadata": {},
   "source": [
    "# list indexing"
   ]
  },
  {
   "cell_type": "code",
   "execution_count": 9,
   "id": "7b071bee",
   "metadata": {},
   "outputs": [],
   "source": [
    "l1=[1,2,3]\n",
    "l2=[3,2,1]"
   ]
  },
  {
   "cell_type": "code",
   "execution_count": 13,
   "id": "d8f21fad",
   "metadata": {},
   "outputs": [
    {
     "name": "stdout",
     "output_type": "stream",
     "text": [
      "1 2\n",
      "3 2\n"
     ]
    }
   ],
   "source": [
    "print(l1[0],l1[1])\n",
    "print(l2[0],l2[1])"
   ]
  },
  {
   "cell_type": "code",
   "execution_count": 17,
   "id": "b0f8cc06",
   "metadata": {},
   "outputs": [
    {
     "name": "stdout",
     "output_type": "stream",
     "text": [
      "Accessing 0 th value from list 100\n",
      "Accessing 1 th value from list 56\n",
      "Accessing 2 th value from list 34\n",
      "Accessing 3 th value from list 89\n",
      "Accessing 4 th value from list 90\n",
      "Accessing 5 th value from list 200\n",
      "Accessing 6 th value from list 100\n"
     ]
    }
   ],
   "source": [
    "l=[100,56,34,89,90,200,100]\n",
    "\n",
    "for i in range(len(l)):\n",
    "    print(f\"Accessing {i} th value from list\",end=' ')\n",
    "    print(f'{l[i]}')"
   ]
  },
  {
   "cell_type": "code",
   "execution_count": 19,
   "id": "7fed212e",
   "metadata": {},
   "outputs": [
    {
     "name": "stdout",
     "output_type": "stream",
     "text": [
      "1\n"
     ]
    }
   ],
   "source": [
    "l=[1,2,3,4]\n",
    "print(l[-4])"
   ]
  },
  {
   "cell_type": "code",
   "execution_count": 20,
   "id": "f1de95fd",
   "metadata": {},
   "outputs": [
    {
     "name": "stdout",
     "output_type": "stream",
     "text": [
      "100\n",
      "56\n",
      "34\n",
      "89\n",
      "90\n",
      "200\n",
      "100\n"
     ]
    }
   ],
   "source": [
    "l=[100,56,34,89,90,200,100]\n",
    "for value in l:\n",
    "    print(value)"
   ]
  },
  {
   "cell_type": "code",
   "execution_count": 21,
   "id": "dae78be2",
   "metadata": {},
   "outputs": [
    {
     "name": "stdout",
     "output_type": "stream",
     "text": [
      "4\n",
      "3\n",
      "2\n",
      "1\n"
     ]
    }
   ],
   "source": [
    "l=[1,2,3,4]\n",
    "print(l[-1])\n",
    "print(l[-2])\n",
    "print(l[-3])\n",
    "print(l[-4])"
   ]
  },
  {
   "cell_type": "code",
   "execution_count": 24,
   "id": "5049b42a",
   "metadata": {},
   "outputs": [
    {
     "name": "stdout",
     "output_type": "stream",
     "text": [
      "100\n",
      "56\n",
      "34\n",
      "89\n",
      "90\n",
      "200\n",
      "100\n"
     ]
    },
    {
     "ename": "IndexError",
     "evalue": "list index out of range",
     "output_type": "error",
     "traceback": [
      "\u001b[1;31m---------------------------------------------------------------------------\u001b[0m",
      "\u001b[1;31mIndexError\u001b[0m                                Traceback (most recent call last)",
      "Cell \u001b[1;32mIn[24], line 3\u001b[0m\n\u001b[0;32m      1\u001b[0m l\u001b[38;5;241m=\u001b[39m[\u001b[38;5;241m100\u001b[39m,\u001b[38;5;241m56\u001b[39m,\u001b[38;5;241m34\u001b[39m,\u001b[38;5;241m89\u001b[39m,\u001b[38;5;241m90\u001b[39m,\u001b[38;5;241m200\u001b[39m,\u001b[38;5;241m100\u001b[39m]\n\u001b[0;32m      2\u001b[0m \u001b[38;5;28;01mfor\u001b[39;00m i \u001b[38;5;129;01min\u001b[39;00m \u001b[38;5;28mrange\u001b[39m(\u001b[38;5;241m8\u001b[39m):\n\u001b[1;32m----> 3\u001b[0m     \u001b[38;5;28mprint\u001b[39m(\u001b[43ml\u001b[49m\u001b[43m[\u001b[49m\u001b[43mi\u001b[49m\u001b[43m]\u001b[49m)\n",
      "\u001b[1;31mIndexError\u001b[0m: list index out of range"
     ]
    }
   ],
   "source": [
    "l=[100,56,34,89,90,200,100]\n",
    "for i in range(8):\n",
    "    print(l[i])"
   ]
  },
  {
   "cell_type": "markdown",
   "id": "af8bd39f",
   "metadata": {},
   "source": [
    "# list slicing "
   ]
  },
  {
   "cell_type": "code",
   "execution_count": 35,
   "id": "9e1fbbc5",
   "metadata": {},
   "outputs": [
    {
     "name": "stdout",
     "output_type": "stream",
     "text": [
      "[4, 4, 5, 6, 7]\n",
      "[1, 2, 3, 4]\n",
      "[3, 4]\n",
      "[4, 5, 6, 7]\n",
      "[1, 2, 3, 4, 4, 5, 6, 7]\n"
     ]
    }
   ],
   "source": [
    "l=[1,2,3,4,4,5,6,7]\n",
    "slice1=l[3:]\n",
    "slice2=l[:4]\n",
    "slice3=l[2:4]\n",
    "slice4=l[-4:]\n",
    "slice5=l[:]\n",
    "print(slice1)\n",
    "print(slice2)\n",
    "print(slice3)\n",
    "print(slice4)\n",
    "print(slice5)"
   ]
  },
  {
   "cell_type": "code",
   "execution_count": 38,
   "id": "d95e1493",
   "metadata": {},
   "outputs": [
    {
     "name": "stdout",
     "output_type": "stream",
     "text": [
      "[[1, 2], [3, 4]]\n",
      "3\n"
     ]
    }
   ],
   "source": [
    "l=[[1,2],[3,4]]\n",
    "print(l)\n",
    "print(l[1][0])"
   ]
  },
  {
   "cell_type": "markdown",
   "id": "a311794e",
   "metadata": {},
   "source": [
    "# Adding elements in lists"
   ]
  },
  {
   "cell_type": "code",
   "execution_count": 39,
   "id": "e507cfe7",
   "metadata": {},
   "outputs": [],
   "source": [
    "\"\"\"\n",
    "1. Append\n",
    "2. insert\n",
    "3. extend\n",
    "\"\"\"\n",
    "even=[]\n",
    "odd=[]\n",
    "l=[89,34,1,3,5,6,7,8,9,0,23,12]\n",
    "for values in l:\n",
    "    if values%2==0:\n",
    "        even.append(values)\n",
    "    else:\n",
    "        odd.append(values)"
   ]
  },
  {
   "cell_type": "code",
   "execution_count": 40,
   "id": "030ce9bd",
   "metadata": {},
   "outputs": [
    {
     "name": "stdout",
     "output_type": "stream",
     "text": [
      "[34, 6, 8, 0, 12]\n"
     ]
    },
    {
     "data": {
      "text/plain": [
       "[89, 1, 3, 5, 7, 9, 23]"
      ]
     },
     "execution_count": 40,
     "metadata": {},
     "output_type": "execute_result"
    }
   ],
   "source": [
    "print(even)\n",
    "odd\n"
   ]
  },
  {
   "cell_type": "code",
   "execution_count": null,
   "id": "cf4e3810",
   "metadata": {},
   "outputs": [],
   "source": [
    "\"\"\"\n",
    "1. create a list and access its values using -ive indexing via for loop\n",
    "l=[1,2,3,4]\n",
    "print(l[-1])\n",
    "print(l[-2])\n",
    "print(l[-3])\n",
    "print(l[-4])\n",
    "2. creating 2D lists\n",
    "3. indexing over 2D lists\n",
    "4. slicing over 2D lists\n",
    "5. using for loop over 2D lists\n",
    "6. explore insert, extend using lists\n",
    "\"\"\""
   ]
  }
 ],
 "metadata": {
  "kernelspec": {
   "display_name": "Python 3 (ipykernel)",
   "language": "python",
   "name": "python3"
  },
  "language_info": {
   "codemirror_mode": {
    "name": "ipython",
    "version": 3
   },
   "file_extension": ".py",
   "mimetype": "text/x-python",
   "name": "python",
   "nbconvert_exporter": "python",
   "pygments_lexer": "ipython3",
   "version": "3.8.18"
  }
 },
 "nbformat": 4,
 "nbformat_minor": 5
}
