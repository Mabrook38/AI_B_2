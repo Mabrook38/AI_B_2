{
 "cells": [
  {
   "cell_type": "code",
   "execution_count": 1,
   "id": "76b53953",
   "metadata": {},
   "outputs": [],
   "source": [
    "l=[[1,3,4,5],[2,3,4,5]]"
   ]
  },
  {
   "cell_type": "code",
   "execution_count": 2,
   "id": "bf8bd02c",
   "metadata": {},
   "outputs": [
    {
     "name": "stdout",
     "output_type": "stream",
     "text": [
      "[[1, 3, 4, 5], [2, 3, 4, 5]]\n"
     ]
    }
   ],
   "source": [
    "print(l)"
   ]
  },
  {
   "cell_type": "code",
   "execution_count": 12,
   "id": "285be87b",
   "metadata": {},
   "outputs": [],
   "source": [
    "l=[1,2,4,5,6]"
   ]
  },
  {
   "cell_type": "code",
   "execution_count": 13,
   "id": "f7928f42",
   "metadata": {},
   "outputs": [],
   "source": [
    "l_copy=l.copy()"
   ]
  },
  {
   "cell_type": "code",
   "execution_count": 17,
   "id": "9100c20f",
   "metadata": {},
   "outputs": [],
   "source": [
    "l_copy\n",
    "l2=[1,2,1,3,4]"
   ]
  },
  {
   "cell_type": "code",
   "execution_count": 23,
   "id": "3e88bc4f",
   "metadata": {},
   "outputs": [],
   "source": [
    "count=0\n",
    "for i in l2:\n",
    "    if i==4:\n",
    "        count+=1"
   ]
  },
  {
   "cell_type": "code",
   "execution_count": 24,
   "id": "366418b7",
   "metadata": {},
   "outputs": [
    {
     "data": {
      "text/plain": [
       "1"
      ]
     },
     "execution_count": 24,
     "metadata": {},
     "output_type": "execute_result"
    }
   ],
   "source": [
    "count"
   ]
  },
  {
   "cell_type": "code",
   "execution_count": 18,
   "id": "120a0f8d",
   "metadata": {},
   "outputs": [
    {
     "data": {
      "text/plain": [
       "2"
      ]
     },
     "execution_count": 18,
     "metadata": {},
     "output_type": "execute_result"
    }
   ],
   "source": [
    "l2.count(1)"
   ]
  },
  {
   "cell_type": "markdown",
   "id": "7e45ffc2",
   "metadata": {},
   "source": [
    "l2=[1,2,1,3,4]\n",
    "l3=[5,6]\n",
    "l2.extend(l3)"
   ]
  },
  {
   "cell_type": "code",
   "execution_count": 26,
   "id": "432f102e",
   "metadata": {},
   "outputs": [
    {
     "data": {
      "text/plain": [
       "[1, 2, 1, 3, 4, 5, 6]"
      ]
     },
     "execution_count": 26,
     "metadata": {},
     "output_type": "execute_result"
    }
   ],
   "source": [
    "l2"
   ]
  },
  {
   "cell_type": "code",
   "execution_count": 28,
   "id": "f5c970ff",
   "metadata": {},
   "outputs": [
    {
     "data": {
      "text/plain": [
       "0"
      ]
     },
     "execution_count": 28,
     "metadata": {},
     "output_type": "execute_result"
    }
   ],
   "source": [
    "l2.index(1)"
   ]
  },
  {
   "cell_type": "code",
   "execution_count": 34,
   "id": "9595c10b",
   "metadata": {},
   "outputs": [
    {
     "name": "stdout",
     "output_type": "stream",
     "text": [
      "input number to find index numbers100\n"
     ]
    }
   ],
   "source": [
    "l=[1,2,3,4,5,1]\n",
    "indx=[]\n",
    "user_input=int(input(\"input number to find index numbers\"))\n",
    "for i in range(len(l)):\n",
    "    if l[i]==user_input:\n",
    "        indx.append(i)\n",
    "    \n",
    "    "
   ]
  },
  {
   "cell_type": "code",
   "execution_count": 35,
   "id": "37d7acb2",
   "metadata": {},
   "outputs": [
    {
     "data": {
      "text/plain": [
       "[]"
      ]
     },
     "execution_count": 35,
     "metadata": {},
     "output_type": "execute_result"
    }
   ],
   "source": [
    "indx"
   ]
  },
  {
   "cell_type": "code",
   "execution_count": 36,
   "id": "adcf280e",
   "metadata": {},
   "outputs": [],
   "source": [
    "def user_index(listt):\n",
    "    indx=[]\n",
    "    user_input=int(input(\"input number to find index numbers\"))\n",
    "    for i in range(len(listt)):\n",
    "        if listt[i]==user_input:\n",
    "            indx.append(i)\n",
    "    return indx\n",
    "\n"
   ]
  },
  {
   "cell_type": "code",
   "execution_count": 37,
   "id": "3aea1b47",
   "metadata": {},
   "outputs": [
    {
     "name": "stdout",
     "output_type": "stream",
     "text": [
      "input number to find index numbers5\n"
     ]
    }
   ],
   "source": [
    "l=[1,2,3,4,5,5,7,8,5]\n",
    "index_5=user_index(l)"
   ]
  },
  {
   "cell_type": "code",
   "execution_count": 38,
   "id": "952b389e",
   "metadata": {},
   "outputs": [
    {
     "data": {
      "text/plain": [
       "[4, 5, 8]"
      ]
     },
     "execution_count": 38,
     "metadata": {},
     "output_type": "execute_result"
    }
   ],
   "source": [
    "index_5"
   ]
  },
  {
   "cell_type": "code",
   "execution_count": null,
   "id": "bf46d4a0",
   "metadata": {},
   "outputs": [],
   "source": [
    "\"index number of 1 =0\"\n",
    "\"index number of 1=5\""
   ]
  },
  {
   "cell_type": "code",
   "execution_count": 39,
   "id": "f2d8d683",
   "metadata": {},
   "outputs": [],
   "source": [
    "l=[1,2,4,5,62,3]\n",
    "l.insert(1,3)"
   ]
  },
  {
   "cell_type": "code",
   "execution_count": 41,
   "id": "75bccfa2",
   "metadata": {},
   "outputs": [],
   "source": [
    "l.insert(9,10)\n"
   ]
  },
  {
   "cell_type": "code",
   "execution_count": 44,
   "id": "63101249",
   "metadata": {},
   "outputs": [],
   "source": [
    "droped=l.pop()"
   ]
  },
  {
   "cell_type": "code",
   "execution_count": 45,
   "id": "29082162",
   "metadata": {},
   "outputs": [
    {
     "data": {
      "text/plain": [
       "3"
      ]
     },
     "execution_count": 45,
     "metadata": {},
     "output_type": "execute_result"
    }
   ],
   "source": [
    "droped"
   ]
  },
  {
   "cell_type": "code",
   "execution_count": 47,
   "id": "d9a51050",
   "metadata": {},
   "outputs": [],
   "source": [
    "droped1=l.pop(1)"
   ]
  },
  {
   "cell_type": "code",
   "execution_count": 48,
   "id": "834fd035",
   "metadata": {},
   "outputs": [
    {
     "data": {
      "text/plain": [
       "3"
      ]
     },
     "execution_count": 48,
     "metadata": {},
     "output_type": "execute_result"
    }
   ],
   "source": [
    "droped1"
   ]
  },
  {
   "cell_type": "code",
   "execution_count": 49,
   "id": "ad2ea35a",
   "metadata": {},
   "outputs": [
    {
     "data": {
      "text/plain": [
       "[1, 2, 4, 5, 62]"
      ]
     },
     "execution_count": 49,
     "metadata": {},
     "output_type": "execute_result"
    }
   ],
   "source": [
    "l"
   ]
  },
  {
   "cell_type": "code",
   "execution_count": 50,
   "id": "be07a9a9",
   "metadata": {},
   "outputs": [],
   "source": [
    "l.remove(62)"
   ]
  },
  {
   "cell_type": "code",
   "execution_count": 51,
   "id": "789bc934",
   "metadata": {},
   "outputs": [
    {
     "data": {
      "text/plain": [
       "[1, 2, 4, 5]"
      ]
     },
     "execution_count": 51,
     "metadata": {},
     "output_type": "execute_result"
    }
   ],
   "source": [
    "l"
   ]
  },
  {
   "cell_type": "code",
   "execution_count": 52,
   "id": "5ef8473d",
   "metadata": {},
   "outputs": [],
   "source": [
    "l.reverse()"
   ]
  },
  {
   "cell_type": "code",
   "execution_count": 53,
   "id": "5fd2af50",
   "metadata": {},
   "outputs": [
    {
     "data": {
      "text/plain": [
       "[5, 4, 2, 1]"
      ]
     },
     "execution_count": 53,
     "metadata": {},
     "output_type": "execute_result"
    }
   ],
   "source": [
    "l."
   ]
  },
  {
   "cell_type": "code",
   "execution_count": 56,
   "id": "ab22009a",
   "metadata": {},
   "outputs": [],
   "source": [
    "l=[1,4,2,6,3,7,4,8]\n",
    "accending_order=l.sort()\n",
    "deccending_order=l.sort(reverse=True)"
   ]
  },
  {
   "cell_type": "code",
   "execution_count": 63,
   "id": "51343bda",
   "metadata": {},
   "outputs": [
    {
     "name": "stdout",
     "output_type": "stream",
     "text": [
      "0.0\n"
     ]
    }
   ],
   "source": [
    "import time\n",
    "st_time=time.time()\n",
    "l.sort()\n",
    "end_time=time.time()\n",
    "\n",
    "total_time=end_time-st_time\n",
    "print(total_time)"
   ]
  },
  {
   "cell_type": "code",
   "execution_count": 66,
   "id": "dc828c3c",
   "metadata": {},
   "outputs": [
    {
     "name": "stdout",
     "output_type": "stream",
     "text": [
      "140726895651744\n",
      "140726895651776\n"
     ]
    }
   ],
   "source": [
    "l=[1,2,3]\n",
    "print(id(l[0]))\n",
    "print(id(l[1]))"
   ]
  },
  {
   "cell_type": "code",
   "execution_count": 67,
   "id": "4542296c",
   "metadata": {},
   "outputs": [
    {
     "data": {
      "text/plain": [
       "'\\n1. reverse a list using loop.\\n2. user defined function to reverse the list\\n3. sorting a list using loop\\n\\ni. select any sorting algo\\nii. function to sort your list\\niii. test\\niv. compare with built in function (based on time complexity) by using time module\\n\\n'"
      ]
     },
     "execution_count": 67,
     "metadata": {},
     "output_type": "execute_result"
    }
   ],
   "source": [
    "\"\"\"\n",
    "1. reverse a list using loop.\n",
    "2. user defined function to reverse the list\n",
    "3. sorting a list using loop\n",
    "\n",
    "i. select any sorting algo\n",
    "ii. function to sort your list\n",
    "iii. test\n",
    "iv. compare with built in function (based on time complexity) by using time module\n",
    "\n",
    "\"\"\""
   ]
  },
  {
   "cell_type": "code",
   "execution_count": null,
   "id": "8b411c50",
   "metadata": {},
   "outputs": [],
   "source": []
  }
 ],
 "metadata": {
  "kernelspec": {
   "display_name": "Python 3 (ipykernel)",
   "language": "python",
   "name": "python3"
  },
  "language_info": {
   "codemirror_mode": {
    "name": "ipython",
    "version": 3
   },
   "file_extension": ".py",
   "mimetype": "text/x-python",
   "name": "python",
   "nbconvert_exporter": "python",
   "pygments_lexer": "ipython3",
   "version": "3.8.18"
  }
 },
 "nbformat": 4,
 "nbformat_minor": 5
}
